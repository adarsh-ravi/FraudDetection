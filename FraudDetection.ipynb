{
 "cells": [
  {
   "cell_type": "code",
   "execution_count": 1,
   "metadata": {},
   "outputs": [],
   "source": [
    "# install.packages(\"ggplot2\")\n",
    "# install.packages(\"ggthemes\")\n",
    "# install.packages(\"ggmosaic\")\n",
    "# install.packages(\"gridExtra\")\n",
    "# install.packages(\"repr\")\n",
    "# install.packages(\"fastDummies\")\n",
    "# install.packages(\"Amelia\")"
   ]
  },
  {
   "cell_type": "code",
   "execution_count": 2,
   "metadata": {},
   "outputs": [
    {
     "name": "stderr",
     "output_type": "stream",
     "text": [
      "Registered S3 method overwritten by 'rvest':\n",
      "  method            from\n",
      "  read_xml.response xml2\n",
      "-- Attaching packages --------------------------------------- tidyverse 1.2.1 --\n",
      "v ggplot2 3.2.1     v purrr   0.3.2\n",
      "v tibble  2.1.1     v dplyr   0.8.3\n",
      "v tidyr   1.0.0     v stringr 1.4.0\n",
      "v readr   1.3.1     v forcats 0.4.0\n",
      "-- Conflicts ------------------------------------------ tidyverse_conflicts() --\n",
      "x dplyr::filter() masks stats::filter()\n",
      "x dplyr::lag()    masks stats::lag()\n",
      "\n",
      "Attaching package: 'gridExtra'\n",
      "\n",
      "The following object is masked from 'package:dplyr':\n",
      "\n",
      "    combine\n",
      "\n",
      "\n",
      "Attaching package: 'data.table'\n",
      "\n",
      "The following objects are masked from 'package:dplyr':\n",
      "\n",
      "    between, first, last\n",
      "\n",
      "The following object is masked from 'package:purrr':\n",
      "\n",
      "    transpose\n",
      "\n",
      "Loading required package: Rcpp\n",
      "## \n",
      "## Amelia II: Multiple Imputation\n",
      "## (Version 1.7.6, built: 2019-11-24)\n",
      "## Copyright (C) 2005-2019 James Honaker, Gary King and Matthew Blackwell\n",
      "## Refer to http://gking.harvard.edu/amelia/ for more information\n",
      "## \n"
     ]
    }
   ],
   "source": [
    "library(tidyverse)\n",
    "library(ggthemes)\n",
    "library(ggmosaic)\n",
    "library(gridExtra)\n",
    "library(data.table)\n",
    "library(fastDummies)\n",
    "library(Amelia)"
   ]
  },
  {
   "cell_type": "code",
   "execution_count": 3,
   "metadata": {},
   "outputs": [],
   "source": [
    "df_train_iden <- read.csv(\"train_identity.csv\")\n",
    "df_train_trans <- read.csv(\"train_transaction.csv\")\n",
    "df_test_iden <- read.csv(\"test_identity.csv\")\n",
    "df_test_trans <- read.csv(\"test_transaction.csv\")"
   ]
  },
  {
   "cell_type": "code",
   "execution_count": 4,
   "metadata": {},
   "outputs": [
    {
     "data": {
      "text/html": [
       "<table>\n",
       "<caption>A data.frame: 6 × 41</caption>\n",
       "<thead>\n",
       "\t<tr><th scope=col>TransactionID</th><th scope=col>id_01</th><th scope=col>id_02</th><th scope=col>id_03</th><th scope=col>id_04</th><th scope=col>id_05</th><th scope=col>id_06</th><th scope=col>id_07</th><th scope=col>id_08</th><th scope=col>id_09</th><th scope=col>...</th><th scope=col>id_31</th><th scope=col>id_32</th><th scope=col>id_33</th><th scope=col>id_34</th><th scope=col>id_35</th><th scope=col>id_36</th><th scope=col>id_37</th><th scope=col>id_38</th><th scope=col>DeviceType</th><th scope=col>DeviceInfo</th></tr>\n",
       "\t<tr><th scope=col>&lt;int&gt;</th><th scope=col>&lt;dbl&gt;</th><th scope=col>&lt;dbl&gt;</th><th scope=col>&lt;dbl&gt;</th><th scope=col>&lt;dbl&gt;</th><th scope=col>&lt;dbl&gt;</th><th scope=col>&lt;dbl&gt;</th><th scope=col>&lt;dbl&gt;</th><th scope=col>&lt;dbl&gt;</th><th scope=col>&lt;dbl&gt;</th><th scope=col>...</th><th scope=col>&lt;fct&gt;</th><th scope=col>&lt;dbl&gt;</th><th scope=col>&lt;fct&gt;</th><th scope=col>&lt;fct&gt;</th><th scope=col>&lt;lgl&gt;</th><th scope=col>&lt;lgl&gt;</th><th scope=col>&lt;lgl&gt;</th><th scope=col>&lt;lgl&gt;</th><th scope=col>&lt;fct&gt;</th><th scope=col>&lt;fct&gt;</th></tr>\n",
       "</thead>\n",
       "<tbody>\n",
       "\t<tr><td>2987004</td><td> 0</td><td> 70787</td><td>NA</td><td>NA</td><td>NA</td><td>NA</td><td>NA</td><td>NA</td><td>NA</td><td>...</td><td>samsung browser 6.2</td><td>32</td><td>2220x1080</td><td>match_status:2</td><td> TRUE</td><td>FALSE</td><td> TRUE</td><td>TRUE</td><td>mobile </td><td>SAMSUNG SM-G892A Build/NRD90M</td></tr>\n",
       "\t<tr><td>2987008</td><td>-5</td><td> 98945</td><td>NA</td><td>NA</td><td> 0</td><td>-5</td><td>NA</td><td>NA</td><td>NA</td><td>...</td><td>mobile safari 11.0 </td><td>32</td><td>1334x750 </td><td>match_status:1</td><td> TRUE</td><td>FALSE</td><td>FALSE</td><td>TRUE</td><td>mobile </td><td>iOS Device                   </td></tr>\n",
       "\t<tr><td>2987010</td><td>-5</td><td>191631</td><td> 0</td><td> 0</td><td> 0</td><td> 0</td><td>NA</td><td>NA</td><td> 0</td><td>...</td><td>chrome 62.0        </td><td>NA</td><td>         </td><td>              </td><td>FALSE</td><td>FALSE</td><td> TRUE</td><td>TRUE</td><td>desktop</td><td>Windows                      </td></tr>\n",
       "\t<tr><td>2987011</td><td>-5</td><td>221832</td><td>NA</td><td>NA</td><td> 0</td><td>-6</td><td>NA</td><td>NA</td><td>NA</td><td>...</td><td>chrome 62.0        </td><td>NA</td><td>         </td><td>              </td><td>FALSE</td><td>FALSE</td><td> TRUE</td><td>TRUE</td><td>desktop</td><td>                             </td></tr>\n",
       "\t<tr><td>2987016</td><td> 0</td><td>  7460</td><td> 0</td><td> 0</td><td> 1</td><td> 0</td><td>NA</td><td>NA</td><td> 0</td><td>...</td><td>chrome 62.0        </td><td>24</td><td>1280x800 </td><td>match_status:2</td><td> TRUE</td><td>FALSE</td><td> TRUE</td><td>TRUE</td><td>desktop</td><td>MacOS                        </td></tr>\n",
       "\t<tr><td>2987017</td><td>-5</td><td> 61141</td><td> 3</td><td> 0</td><td> 3</td><td> 0</td><td>NA</td><td>NA</td><td> 3</td><td>...</td><td>chrome 62.0        </td><td>24</td><td>1366x768 </td><td>match_status:2</td><td> TRUE</td><td>FALSE</td><td> TRUE</td><td>TRUE</td><td>desktop</td><td>Windows                      </td></tr>\n",
       "</tbody>\n",
       "</table>\n"
      ],
      "text/latex": [
       "A data.frame: 6 × 41\n",
       "\\begin{tabular}{r|lllllllllllllllllllllllllllllllllllllllll}\n",
       " TransactionID & id\\_01 & id\\_02 & id\\_03 & id\\_04 & id\\_05 & id\\_06 & id\\_07 & id\\_08 & id\\_09 & id\\_10 & id\\_11 & id\\_12 & id\\_13 & id\\_14 & id\\_15 & id\\_16 & id\\_17 & id\\_18 & id\\_19 & id\\_20 & id\\_21 & id\\_22 & id\\_23 & id\\_24 & id\\_25 & id\\_26 & id\\_27 & id\\_28 & id\\_29 & id\\_30 & id\\_31 & id\\_32 & id\\_33 & id\\_34 & id\\_35 & id\\_36 & id\\_37 & id\\_38 & DeviceType & DeviceInfo\\\\\n",
       " <int> & <dbl> & <dbl> & <dbl> & <dbl> & <dbl> & <dbl> & <dbl> & <dbl> & <dbl> & <dbl> & <dbl> & <fct> & <dbl> & <dbl> & <fct> & <fct> & <dbl> & <dbl> & <dbl> & <dbl> & <dbl> & <dbl> & <fct> & <dbl> & <dbl> & <dbl> & <fct> & <fct> & <fct> & <fct> & <fct> & <dbl> & <fct> & <fct> & <lgl> & <lgl> & <lgl> & <lgl> & <fct> & <fct>\\\\\n",
       "\\hline\n",
       "\t 2987004 &  0 &  70787 & NA & NA & NA & NA & NA & NA & NA & NA & 100 & NotFound & NA & -480 & New   & NotFound & 166 & NA & 542 & 144 & NA & NA &  & NA & NA & NA &  & New   & NotFound & Android 7.0      & samsung browser 6.2 & 32 & 2220x1080 & match\\_status:2 &  TRUE & FALSE &  TRUE & TRUE & mobile  & SAMSUNG SM-G892A Build/NRD90M\\\\\n",
       "\t 2987008 & -5 &  98945 & NA & NA &  0 & -5 & NA & NA & NA & NA & 100 & NotFound & 49 & -300 & New   & NotFound & 166 & NA & 621 & 500 & NA & NA &  & NA & NA & NA &  & New   & NotFound & iOS 11.1.2       & mobile safari 11.0  & 32 & 1334x750  & match\\_status:1 &  TRUE & FALSE & FALSE & TRUE & mobile  & iOS Device                   \\\\\n",
       "\t 2987010 & -5 & 191631 &  0 &  0 &  0 &  0 & NA & NA &  0 &  0 & 100 & NotFound & 52 &   NA & Found & Found    & 121 & NA & 410 & 142 & NA & NA &  & NA & NA & NA &  & Found & Found    &                  & chrome 62.0         & NA &           &                & FALSE & FALSE &  TRUE & TRUE & desktop & Windows                      \\\\\n",
       "\t 2987011 & -5 & 221832 & NA & NA &  0 & -6 & NA & NA & NA & NA & 100 & NotFound & 52 &   NA & New   & NotFound & 225 & NA & 176 & 507 & NA & NA &  & NA & NA & NA &  & New   & NotFound &                  & chrome 62.0         & NA &           &                & FALSE & FALSE &  TRUE & TRUE & desktop &                              \\\\\n",
       "\t 2987016 &  0 &   7460 &  0 &  0 &  1 &  0 & NA & NA &  0 &  0 & 100 & NotFound & NA & -300 & Found & Found    & 166 & 15 & 529 & 575 & NA & NA &  & NA & NA & NA &  & Found & Found    & Mac OS X 10\\_11\\_6 & chrome 62.0         & 24 & 1280x800  & match\\_status:2 &  TRUE & FALSE &  TRUE & TRUE & desktop & MacOS                        \\\\\n",
       "\t 2987017 & -5 &  61141 &  3 &  0 &  3 &  0 & NA & NA &  3 &  0 & 100 & NotFound & 52 & -300 & Found & Found    & 166 & 18 & 529 & 600 & NA & NA &  & NA & NA & NA &  & Found & Found    & Windows 10       & chrome 62.0         & 24 & 1366x768  & match\\_status:2 &  TRUE & FALSE &  TRUE & TRUE & desktop & Windows                      \\\\\n",
       "\\end{tabular}\n"
      ],
      "text/markdown": [
       "\n",
       "A data.frame: 6 × 41\n",
       "\n",
       "| TransactionID &lt;int&gt; | id_01 &lt;dbl&gt; | id_02 &lt;dbl&gt; | id_03 &lt;dbl&gt; | id_04 &lt;dbl&gt; | id_05 &lt;dbl&gt; | id_06 &lt;dbl&gt; | id_07 &lt;dbl&gt; | id_08 &lt;dbl&gt; | id_09 &lt;dbl&gt; | ... ... | id_31 &lt;fct&gt; | id_32 &lt;dbl&gt; | id_33 &lt;fct&gt; | id_34 &lt;fct&gt; | id_35 &lt;lgl&gt; | id_36 &lt;lgl&gt; | id_37 &lt;lgl&gt; | id_38 &lt;lgl&gt; | DeviceType &lt;fct&gt; | DeviceInfo &lt;fct&gt; |\n",
       "|---|---|---|---|---|---|---|---|---|---|---|---|---|---|---|---|---|---|---|---|---|\n",
       "| 2987004 |  0 |  70787 | NA | NA | NA | NA | NA | NA | NA | ... | samsung browser 6.2 | 32 | 2220x1080 | match_status:2 |  TRUE | FALSE |  TRUE | TRUE | mobile  | SAMSUNG SM-G892A Build/NRD90M |\n",
       "| 2987008 | -5 |  98945 | NA | NA |  0 | -5 | NA | NA | NA | ... | mobile safari 11.0  | 32 | 1334x750  | match_status:1 |  TRUE | FALSE | FALSE | TRUE | mobile  | iOS Device                    |\n",
       "| 2987010 | -5 | 191631 |  0 |  0 |  0 |  0 | NA | NA |  0 | ... | chrome 62.0         | NA | <!----> | <!----> | FALSE | FALSE |  TRUE | TRUE | desktop | Windows                       |\n",
       "| 2987011 | -5 | 221832 | NA | NA |  0 | -6 | NA | NA | NA | ... | chrome 62.0         | NA | <!----> | <!----> | FALSE | FALSE |  TRUE | TRUE | desktop | <!----> |\n",
       "| 2987016 |  0 |   7460 |  0 |  0 |  1 |  0 | NA | NA |  0 | ... | chrome 62.0         | 24 | 1280x800  | match_status:2 |  TRUE | FALSE |  TRUE | TRUE | desktop | MacOS                         |\n",
       "| 2987017 | -5 |  61141 |  3 |  0 |  3 |  0 | NA | NA |  3 | ... | chrome 62.0         | 24 | 1366x768  | match_status:2 |  TRUE | FALSE |  TRUE | TRUE | desktop | Windows                       |\n",
       "\n"
      ],
      "text/plain": [
       "  TransactionID id_01 id_02  id_03 id_04 id_05 id_06 id_07 id_08 id_09 ...\n",
       "1 2987004        0     70787 NA    NA    NA    NA    NA    NA    NA    ...\n",
       "2 2987008       -5     98945 NA    NA     0    -5    NA    NA    NA    ...\n",
       "3 2987010       -5    191631  0     0     0     0    NA    NA     0    ...\n",
       "4 2987011       -5    221832 NA    NA     0    -6    NA    NA    NA    ...\n",
       "5 2987016        0      7460  0     0     1     0    NA    NA     0    ...\n",
       "6 2987017       -5     61141  3     0     3     0    NA    NA     3    ...\n",
       "  id_31               id_32 id_33     id_34          id_35 id_36 id_37 id_38\n",
       "1 samsung browser 6.2 32    2220x1080 match_status:2  TRUE FALSE  TRUE TRUE \n",
       "2 mobile safari 11.0  32    1334x750  match_status:1  TRUE FALSE FALSE TRUE \n",
       "3 chrome 62.0         NA                             FALSE FALSE  TRUE TRUE \n",
       "4 chrome 62.0         NA                             FALSE FALSE  TRUE TRUE \n",
       "5 chrome 62.0         24    1280x800  match_status:2  TRUE FALSE  TRUE TRUE \n",
       "6 chrome 62.0         24    1366x768  match_status:2  TRUE FALSE  TRUE TRUE \n",
       "  DeviceType DeviceInfo                   \n",
       "1 mobile     SAMSUNG SM-G892A Build/NRD90M\n",
       "2 mobile     iOS Device                   \n",
       "3 desktop    Windows                      \n",
       "4 desktop                                 \n",
       "5 desktop    MacOS                        \n",
       "6 desktop    Windows                      "
      ]
     },
     "metadata": {},
     "output_type": "display_data"
    }
   ],
   "source": [
    "head(df_train_iden)"
   ]
  },
  {
   "cell_type": "code",
   "execution_count": 5,
   "metadata": {},
   "outputs": [
    {
     "data": {
      "text/html": [
       "<table>\n",
       "<caption>A data.frame: 6 × 394</caption>\n",
       "<thead>\n",
       "\t<tr><th scope=col>TransactionID</th><th scope=col>isFraud</th><th scope=col>TransactionDT</th><th scope=col>TransactionAmt</th><th scope=col>ProductCD</th><th scope=col>card1</th><th scope=col>card2</th><th scope=col>card3</th><th scope=col>card4</th><th scope=col>card5</th><th scope=col>...</th><th scope=col>V330</th><th scope=col>V331</th><th scope=col>V332</th><th scope=col>V333</th><th scope=col>V334</th><th scope=col>V335</th><th scope=col>V336</th><th scope=col>V337</th><th scope=col>V338</th><th scope=col>V339</th></tr>\n",
       "\t<tr><th scope=col>&lt;int&gt;</th><th scope=col>&lt;int&gt;</th><th scope=col>&lt;int&gt;</th><th scope=col>&lt;dbl&gt;</th><th scope=col>&lt;fct&gt;</th><th scope=col>&lt;int&gt;</th><th scope=col>&lt;dbl&gt;</th><th scope=col>&lt;dbl&gt;</th><th scope=col>&lt;fct&gt;</th><th scope=col>&lt;dbl&gt;</th><th scope=col>...</th><th scope=col>&lt;dbl&gt;</th><th scope=col>&lt;dbl&gt;</th><th scope=col>&lt;dbl&gt;</th><th scope=col>&lt;dbl&gt;</th><th scope=col>&lt;dbl&gt;</th><th scope=col>&lt;dbl&gt;</th><th scope=col>&lt;dbl&gt;</th><th scope=col>&lt;dbl&gt;</th><th scope=col>&lt;dbl&gt;</th><th scope=col>&lt;dbl&gt;</th></tr>\n",
       "</thead>\n",
       "<tbody>\n",
       "\t<tr><td>2987000</td><td>0</td><td>86400</td><td>68.5</td><td>W</td><td>13926</td><td> NA</td><td>150</td><td>discover  </td><td>142</td><td>...</td><td>NA</td><td>NA</td><td>NA</td><td>NA</td><td>NA</td><td>NA</td><td>NA</td><td>NA</td><td>NA</td><td>NA</td></tr>\n",
       "\t<tr><td>2987001</td><td>0</td><td>86401</td><td>29.0</td><td>W</td><td> 2755</td><td>404</td><td>150</td><td>mastercard</td><td>102</td><td>...</td><td>NA</td><td>NA</td><td>NA</td><td>NA</td><td>NA</td><td>NA</td><td>NA</td><td>NA</td><td>NA</td><td>NA</td></tr>\n",
       "\t<tr><td>2987002</td><td>0</td><td>86469</td><td>59.0</td><td>W</td><td> 4663</td><td>490</td><td>150</td><td>visa      </td><td>166</td><td>...</td><td>NA</td><td>NA</td><td>NA</td><td>NA</td><td>NA</td><td>NA</td><td>NA</td><td>NA</td><td>NA</td><td>NA</td></tr>\n",
       "\t<tr><td>2987003</td><td>0</td><td>86499</td><td>50.0</td><td>W</td><td>18132</td><td>567</td><td>150</td><td>mastercard</td><td>117</td><td>...</td><td>NA</td><td>NA</td><td>NA</td><td>NA</td><td>NA</td><td>NA</td><td>NA</td><td>NA</td><td>NA</td><td>NA</td></tr>\n",
       "\t<tr><td>2987004</td><td>0</td><td>86506</td><td>50.0</td><td>H</td><td> 4497</td><td>514</td><td>150</td><td>mastercard</td><td>102</td><td>...</td><td> 0</td><td> 0</td><td> 0</td><td> 0</td><td> 0</td><td> 0</td><td> 0</td><td> 0</td><td> 0</td><td> 0</td></tr>\n",
       "\t<tr><td>2987005</td><td>0</td><td>86510</td><td>49.0</td><td>W</td><td> 5937</td><td>555</td><td>150</td><td>visa      </td><td>226</td><td>...</td><td>NA</td><td>NA</td><td>NA</td><td>NA</td><td>NA</td><td>NA</td><td>NA</td><td>NA</td><td>NA</td><td>NA</td></tr>\n",
       "</tbody>\n",
       "</table>\n"
      ],
      "text/latex": [
       "A data.frame: 6 × 394\n",
       "\\begin{tabular}{r|llllllllllllllllllllllllllllllllllllllllllllllllllllllllllllllllllllllllllllllllllllllllllllllllllllllllllllllllllllllllllllllllllllllllllllllllllllllllllllllllllllllllllllllllllllllllllllllllllllllllllllllllllllllllllllllllllllllllllllllllllllllllllllllllllllllllllllllllllllllllllllllllllllllllllllllllllllllllllllllllllllllllllllllllllllllllllllllllllllllllllllllllllllllllllllllllllllllllll}\n",
       " TransactionID & isFraud & TransactionDT & TransactionAmt & ProductCD & card1 & card2 & card3 & card4 & card5 & card6 & addr1 & addr2 & dist1 & dist2 & P\\_emaildomain & R\\_emaildomain & C1 & C2 & C3 & C4 & C5 & C6 & C7 & C8 & C9 & C10 & C11 & C12 & C13 & C14 & D1 & D2 & D3 & D4 & D5 & D6 & D7 & D8 & D9 & D10 & D11 & D12 & D13 & D14 & D15 & M1 & M2 & M3 & M4 & M5 & M6 & M7 & M8 & M9 & V1 & V2 & V3 & V4 & V5 & V6 & V7 & V8 & V9 & V10 & V11 & V12 & V13 & V14 & V15 & V16 & V17 & V18 & V19 & V20 & V21 & V22 & V23 & V24 & V25 & V26 & V27 & V28 & V29 & V30 & V31 & V32 & V33 & V34 & V35 & V36 & V37 & V38 & V39 & V40 & V41 & V42 & V43 & V44 & V45 & V46 & V47 & V48 & V49 & V50 & V51 & V52 & V53 & V54 & V55 & V56 & V57 & V58 & V59 & V60 & V61 & V62 & V63 & V64 & V65 & V66 & V67 & V68 & V69 & V70 & V71 & V72 & V73 & V74 & V75 & V76 & V77 & V78 & V79 & V80 & V81 & V82 & V83 & V84 & V85 & V86 & V87 & V88 & V89 & V90 & V91 & V92 & V93 & V94 & V95 & V96 & V97 & V98 & V99 & V100 & V101 & V102 & V103 & V104 & V105 & V106 & V107 & V108 & V109 & V110 & V111 & V112 & V113 & V114 & V115 & V116 & V117 & V118 & V119 & V120 & V121 & V122 & V123 & V124 & V125 & V126 & V127 & V128 & V129 & V130 & V131 & V132 & V133 & V134 & V135 & V136 & V137 & V138 & V139 & V140 & V141 & V142 & V143 & V144 & V145 & V146 & V147 & V148 & V149 & V150 & V151 & V152 & V153 & V154 & V155 & V156 & V157 & V158 & V159 & V160 & V161 & V162 & V163 & V164 & V165 & V166 & V167 & V168 & V169 & V170 & V171 & V172 & V173 & V174 & V175 & V176 & V177 & V178 & V179 & V180 & V181 & V182 & V183 & V184 & V185 & V186 & V187 & V188 & V189 & V190 & V191 & V192 & V193 & V194 & V195 & V196 & V197 & V198 & V199 & V200 & V201 & V202 & V203 & V204 & V205 & V206 & V207 & V208 & V209 & V210 & V211 & V212 & V213 & V214 & V215 & V216 & V217 & V218 & V219 & V220 & V221 & V222 & V223 & V224 & V225 & V226 & V227 & V228 & V229 & V230 & V231 & V232 & V233 & V234 & V235 & V236 & V237 & V238 & V239 & V240 & V241 & V242 & V243 & V244 & V245 & V246 & V247 & V248 & V249 & V250 & V251 & V252 & V253 & V254 & V255 & V256 & V257 & V258 & V259 & V260 & V261 & V262 & V263 & V264 & V265 & V266 & V267 & V268 & V269 & V270 & V271 & V272 & V273 & V274 & V275 & V276 & V277 & V278 & V279 & V280 & V281 & V282 & V283 & V284 & V285 & V286 & V287 & V288 & V289 & V290 & V291 & V292 & V293 & V294 & V295 & V296 & V297 & V298 & V299 & V300 & V301 & V302 & V303 & V304 & V305 & V306 & V307 & V308 & V309 & V310 & V311 & V312 & V313 & V314 & V315 & V316 & V317 & V318 & V319 & V320 & V321 & V322 & V323 & V324 & V325 & V326 & V327 & V328 & V329 & V330 & V331 & V332 & V333 & V334 & V335 & V336 & V337 & V338 & V339\\\\\n",
       " <int> & <int> & <int> & <dbl> & <fct> & <int> & <dbl> & <dbl> & <fct> & <dbl> & <fct> & <dbl> & <dbl> & <dbl> & <dbl> & <fct> & <fct> & <dbl> & <dbl> & <dbl> & <dbl> & <dbl> & <dbl> & <dbl> & <dbl> & <dbl> & <dbl> & <dbl> & <dbl> & <dbl> & <dbl> & <dbl> & <dbl> & <dbl> & <dbl> & <dbl> & <dbl> & <dbl> & <dbl> & <dbl> & <dbl> & <dbl> & <dbl> & <dbl> & <dbl> & <dbl> & <lgl> & <lgl> & <lgl> & <fct> & <lgl> & <lgl> & <lgl> & <lgl> & <lgl> & <dbl> & <dbl> & <dbl> & <dbl> & <dbl> & <dbl> & <dbl> & <dbl> & <dbl> & <dbl> & <dbl> & <dbl> & <dbl> & <dbl> & <dbl> & <dbl> & <dbl> & <dbl> & <dbl> & <dbl> & <dbl> & <dbl> & <dbl> & <dbl> & <dbl> & <dbl> & <dbl> & <dbl> & <dbl> & <dbl> & <dbl> & <dbl> & <dbl> & <dbl> & <dbl> & <dbl> & <dbl> & <dbl> & <dbl> & <dbl> & <dbl> & <dbl> & <dbl> & <dbl> & <dbl> & <dbl> & <dbl> & <dbl> & <dbl> & <dbl> & <dbl> & <dbl> & <dbl> & <dbl> & <dbl> & <dbl> & <dbl> & <dbl> & <dbl> & <dbl> & <dbl> & <dbl> & <dbl> & <dbl> & <dbl> & <dbl> & <dbl> & <dbl> & <dbl> & <dbl> & <dbl> & <dbl> & <dbl> & <dbl> & <dbl> & <dbl> & <dbl> & <dbl> & <dbl> & <dbl> & <dbl> & <dbl> & <dbl> & <dbl> & <dbl> & <dbl> & <dbl> & <dbl> & <dbl> & <dbl> & <dbl> & <dbl> & <dbl> & <dbl> & <dbl> & <dbl> & <dbl> & <dbl> & <dbl> & <dbl> & <dbl> & <dbl> & <dbl> & <dbl> & <dbl> & <dbl> & <dbl> & <dbl> & <dbl> & <dbl> & <dbl> & <dbl> & <dbl> & <dbl> & <dbl> & <dbl> & <dbl> & <dbl> & <dbl> & <dbl> & <dbl> & <dbl> & <dbl> & <dbl> & <dbl> & <dbl> & <dbl> & <dbl> & <dbl> & <dbl> & <dbl> & <dbl> & <dbl> & <dbl> & <dbl> & <dbl> & <dbl> & <dbl> & <dbl> & <dbl> & <dbl> & <dbl> & <dbl> & <dbl> & <dbl> & <dbl> & <dbl> & <dbl> & <dbl> & <dbl> & <dbl> & <dbl> & <dbl> & <dbl> & <dbl> & <dbl> & <dbl> & <dbl> & <dbl> & <dbl> & <dbl> & <dbl> & <dbl> & <dbl> & <dbl> & <dbl> & <dbl> & <dbl> & <dbl> & <dbl> & <dbl> & <dbl> & <dbl> & <dbl> & <dbl> & <dbl> & <dbl> & <dbl> & <dbl> & <dbl> & <dbl> & <dbl> & <dbl> & <dbl> & <dbl> & <dbl> & <dbl> & <dbl> & <dbl> & <dbl> & <dbl> & <dbl> & <dbl> & <dbl> & <dbl> & <dbl> & <dbl> & <dbl> & <dbl> & <dbl> & <dbl> & <dbl> & <dbl> & <dbl> & <dbl> & <dbl> & <dbl> & <dbl> & <dbl> & <dbl> & <dbl> & <dbl> & <dbl> & <dbl> & <dbl> & <dbl> & <dbl> & <dbl> & <dbl> & <dbl> & <dbl> & <dbl> & <dbl> & <dbl> & <dbl> & <dbl> & <dbl> & <dbl> & <dbl> & <dbl> & <dbl> & <dbl> & <dbl> & <dbl> & <dbl> & <dbl> & <dbl> & <dbl> & <dbl> & <dbl> & <dbl> & <dbl> & <dbl> & <dbl> & <dbl> & <dbl> & <dbl> & <dbl> & <dbl> & <dbl> & <dbl> & <dbl> & <dbl> & <dbl> & <dbl> & <dbl> & <dbl> & <dbl> & <dbl> & <dbl> & <dbl> & <dbl> & <dbl> & <dbl> & <dbl> & <dbl> & <dbl> & <dbl> & <dbl> & <dbl> & <dbl> & <dbl> & <dbl> & <dbl> & <dbl> & <dbl> & <dbl> & <dbl> & <dbl> & <dbl> & <dbl> & <dbl> & <dbl> & <dbl> & <dbl> & <dbl> & <dbl> & <dbl> & <dbl> & <dbl> & <dbl> & <dbl> & <dbl> & <dbl> & <dbl> & <dbl> & <dbl> & <dbl> & <dbl> & <dbl> & <dbl> & <dbl> & <dbl> & <dbl> & <dbl> & <dbl> & <dbl> & <dbl> & <dbl> & <dbl> & <dbl> & <dbl> & <dbl> & <dbl> & <dbl> & <dbl> & <dbl> & <dbl> & <dbl> & <dbl> & <dbl> & <dbl> & <dbl> & <dbl> & <dbl> & <dbl> & <dbl> & <dbl> & <dbl> & <dbl> & <dbl> & <dbl> & <dbl> & <dbl> & <dbl> & <dbl> & <dbl> & <dbl> & <dbl>\\\\\n",
       "\\hline\n",
       "\t 2987000 & 0 & 86400 & 68.5 & W & 13926 &  NA & 150 & discover   & 142 & credit & 315 & 87 &  19 & NA &             &  & 1 & 1 & 0 & 0 & 0 & 1 & 0 & 0 & 1 & 0 & 2 & 0 &  1 & 1 &  14 &  NA & 13 & NA & NA & NA & NA & NA & NA & 13 &  13 & NA & NA & NA &   0 & TRUE & TRUE & TRUE & M2 & FALSE &  TRUE &    NA &    NA &    NA &  1 &  1 &  1 &  1 &  1 &  1 &  1 &  1 &  1 &  0 &  0 &  1 &  1 &  1 &  0 &  0 &  0 &  0 &  1 &  1 &  0 &  0 &  1 &  1 &  1 &  1 &  0 &  0 &  0 &  0 &  0 &  0 &  0 &  0 & NA & NA & NA & NA & NA & NA & NA & NA & NA & NA & NA & NA & NA & NA & NA & NA & NA & NA &  1 &  1 &  1 &  1 &  0 &  0 &  0 &  0 &  1 &  1 &  0 &  0 &  1 &  1 &  1 &  0 &  0 &  0 &  0 &  0 &  0 &  0 &  1 &  1 &  1 &  1 &  0 &  0 &  0 &  0 &  0 &  0 &  0 &  1 &  1 &  1 &  0 &  0 &  0 &  0 &  0 &  0 & 0 &  1 &  0 & 0 &  0 & 0 & 0 &  1 &  0 & 0 & 0 & 0 & 1 & 1 & 1 & 1 & 1 & 1 & 1 & 1 & 1 & 1 & 1 & 1 & 1 & 1 & 1 & 1 & 1 & 1 & 1 &  0 &  117 &   0 & 0 &   0 &   0 &  0 &  117 &   0 & 0 & 0 & 0 & NA & NA & NA & NA & NA & NA & NA &  NA & NA & NA & NA & NA &   NA & NA & NA & NA & NA & NA & NA & NA & NA &       NA &       NA & NA & NA & NA &  NA &   NA &   NA & NA & NA & NA & NA & NA & NA & NA & NA & NA & NA & NA & NA & NA & NA & NA & NA & NA & NA & NA & NA & NA & NA & NA & NA & NA & NA & NA & NA & NA & NA & NA & NA & NA & NA & NA & NA & NA & NA & NA & NA & NA & NA & NA & NA & NA & NA & NA & NA & NA & NA & NA & NA & NA & NA & NA & NA & NA & NA & NA & NA & NA & NA & NA & NA & NA & NA & NA & NA & NA & NA & NA & NA & NA & NA & NA & NA & NA & NA & NA & NA & NA & NA & NA & NA & NA & NA & NA & NA & NA & NA & NA & NA & NA & NA & NA & NA & NA & NA & NA & NA & NA & NA & NA & NA & NA & NA & NA & NA & NA & NA & NA & NA & 0 &  0 & 0 & 1 & 1 & 0 &  0 & 0 & 0 & 0 & 0 & 1 & 1 & 1 & 0 &  1 &  0 & 0 & 0 & 0 & 0 & 0 & 0 & 0 & 0 & 0 & 1 &  0 &  117 &   0 & 0 &   0 & 0 &   0 & 0 & 0 & 0 &  0 &  117 &   0 & 0 & 0 & 0 & NA & NA & NA & NA & NA & NA & NA & NA & NA & NA & NA & NA & NA & NA & NA & NA & NA & NA\\\\\n",
       "\t 2987001 & 0 & 86401 & 29.0 & W &  2755 & 404 & 150 & mastercard & 102 & credit & 325 & 87 &  NA & NA & gmail.com   &  & 1 & 1 & 0 & 0 & 0 & 1 & 0 & 0 & 0 & 0 & 1 & 0 &  1 & 1 &   0 &  NA & NA &  0 & NA & NA & NA & NA & NA &  0 &  NA & NA & NA & NA &   0 &   NA &   NA &   NA & M0 &  TRUE &  TRUE &    NA &    NA &    NA & NA & NA & NA & NA & NA & NA & NA & NA & NA & NA & NA &  0 &  0 &  1 &  0 &  0 &  0 &  0 &  1 &  1 &  0 &  0 &  1 &  1 &  1 &  1 &  0 &  0 &  0 &  0 &  0 &  0 &  0 &  0 &  0 &  0 &  1 &  1 &  0 &  0 &  1 &  0 &  0 &  1 &  1 &  1 &  1 &  0 &  0 &  0 &  0 &  0 &  0 &  0 &  1 &  1 &  0 &  0 &  0 &  0 &  1 &  1 &  0 &  0 &  1 &  1 &  1 &  0 &  0 &  0 &  0 &  0 &  0 &  0 &  0 &  0 &  1 &  1 &  0 &  0 &  0 &  1 &  1 &  0 &  0 &  1 &  1 &  1 &  0 &  0 &  0 &  0 &  0 &  0 & 0 &  0 &  0 & 0 &  0 & 0 & 0 &  0 &  0 & 0 & 0 & 0 & 1 & 1 & 1 & 1 & 1 & 1 & 1 & 1 & 1 & 1 & 1 & 1 & 1 & 1 & 1 & 1 & 1 & 1 & 1 &  0 &    0 &   0 & 0 &   0 &   0 &  0 &    0 &   0 & 0 & 0 & 0 & NA & NA & NA & NA & NA & NA & NA &  NA & NA & NA & NA & NA &   NA & NA & NA & NA & NA & NA & NA & NA & NA &       NA &       NA & NA & NA & NA &  NA &   NA &   NA & NA & NA & NA & NA & NA & NA & NA & NA & NA & NA & NA & NA & NA & NA & NA & NA & NA & NA & NA & NA & NA & NA & NA & NA & NA & NA & NA & NA & NA & NA & NA & NA & NA & NA & NA & NA & NA & NA & NA & NA & NA & NA & NA & NA & NA & NA & NA & NA & NA & NA & NA & NA & NA & NA & NA & NA & NA & NA & NA & NA & NA & NA & NA & NA & NA & NA & NA & NA & NA & NA & NA & NA & NA & NA & NA & NA & NA & NA & NA & NA & NA & NA & NA & NA & NA & NA & NA & NA & NA & NA & NA & NA & NA & NA & NA & NA & NA & NA & NA & NA & NA & NA & NA & NA & NA & NA & NA & NA & NA & NA & NA & NA & 0 &  0 & 0 & 1 & 1 & 0 &  0 & 0 & 0 & 0 & 0 & 1 & 1 & 1 & 0 &  0 &  0 & 0 & 0 & 0 & 0 & 0 & 0 & 0 & 0 & 0 & 1 &  0 &    0 &   0 & 0 &   0 & 0 &   0 & 0 & 0 & 0 &  0 &    0 &   0 & 0 & 0 & 0 & NA & NA & NA & NA & NA & NA & NA & NA & NA & NA & NA & NA & NA & NA & NA & NA & NA & NA\\\\\n",
       "\t 2987002 & 0 & 86469 & 59.0 & W &  4663 & 490 & 150 & visa       & 166 & debit  & 330 & 87 & 287 & NA & outlook.com &  & 1 & 1 & 0 & 0 & 0 & 1 & 0 & 0 & 1 & 0 & 1 & 0 &  1 & 1 &   0 &  NA & NA &  0 & NA & NA & NA & NA & NA &  0 & 315 & NA & NA & NA & 315 & TRUE & TRUE & TRUE & M0 & FALSE & FALSE & FALSE & FALSE & FALSE &  1 &  1 &  1 &  1 &  1 &  1 &  1 &  1 &  1 &  0 &  0 &  1 &  1 &  1 &  0 &  0 &  0 &  0 &  1 &  1 &  0 &  0 &  1 &  1 &  1 &  1 &  0 &  0 &  0 &  0 &  0 &  0 &  0 &  0 &  1 &  1 &  1 &  1 &  0 &  0 &  1 &  0 &  0 &  1 &  1 &  1 &  1 &  0 &  0 &  0 &  0 &  0 &  1 &  1 &  1 &  1 &  0 &  0 &  0 &  0 &  1 &  1 &  0 &  0 &  1 &  1 &  1 &  0 &  0 &  0 &  0 &  0 &  0 &  0 &  1 &  1 &  1 &  1 &  0 &  0 &  0 &  1 &  1 &  0 &  0 &  1 &  1 &  1 &  0 &  0 &  0 &  0 &  0 &  0 & 0 &  0 &  0 & 0 &  0 & 0 & 0 &  0 &  0 & 0 & 0 & 0 & 1 & 1 & 1 & 1 & 1 & 1 & 1 & 1 & 1 & 1 & 1 & 1 & 1 & 1 & 1 & 1 & 1 & 1 & 1 &  0 &    0 &   0 & 0 &   0 &   0 &  0 &    0 &   0 & 0 & 0 & 0 & NA & NA & NA & NA & NA & NA & NA &  NA & NA & NA & NA & NA &   NA & NA & NA & NA & NA & NA & NA & NA & NA &       NA &       NA & NA & NA & NA &  NA &   NA &   NA & NA & NA & NA & NA & NA & NA & NA & NA & NA & NA & NA & NA & NA & NA & NA & NA & NA & NA & NA & NA & NA & NA & NA & NA & NA & NA & NA & NA & NA & NA & NA & NA & NA & NA & NA & NA & NA & NA & NA & NA & NA & NA & NA & NA & NA & NA & NA & NA & NA & NA & NA & NA & NA & NA & NA & NA & NA & NA & NA & NA & NA & NA & NA & NA & NA & NA & NA & NA & NA & NA & NA & NA & NA & NA & NA & NA & NA & NA & NA & NA & NA & NA & NA & NA & NA & NA & NA & NA & NA & NA & NA & NA & NA & NA & NA & NA & NA & NA & NA & NA & NA & NA & NA & NA & NA & NA & NA & NA & NA & NA & NA & NA & 0 &  0 & 0 & 1 & 1 & 0 &  0 & 0 & 0 & 0 & 0 & 1 & 1 & 1 & 0 &  0 &  0 & 0 & 0 & 0 & 0 & 0 & 0 & 0 & 0 & 0 & 1 &  0 &    0 &   0 & 0 &   0 & 0 &   0 & 0 & 0 & 0 &  0 &    0 &   0 & 0 & 0 & 0 & NA & NA & NA & NA & NA & NA & NA & NA & NA & NA & NA & NA & NA & NA & NA & NA & NA & NA\\\\\n",
       "\t 2987003 & 0 & 86499 & 50.0 & W & 18132 & 567 & 150 & mastercard & 117 & debit  & 476 & 87 &  NA & NA & yahoo.com   &  & 2 & 5 & 0 & 0 & 0 & 4 & 0 & 0 & 1 & 0 & 1 & 0 & 25 & 1 & 112 & 112 &  0 & 94 &  0 & NA & NA & NA & NA & 84 &  NA & NA & NA & NA & 111 &   NA &   NA &   NA & M0 &  TRUE & FALSE &    NA &    NA &    NA & NA & NA & NA & NA & NA & NA & NA & NA & NA & NA & NA &  1 &  1 &  1 &  0 &  0 &  0 &  0 &  1 &  1 &  0 &  0 &  1 &  1 &  1 &  1 &  0 &  0 &  0 &  0 &  0 &  0 &  0 &  0 &  1 &  1 &  1 &  1 &  0 &  0 &  1 &  0 &  0 &  1 &  1 &  1 &  1 &  0 &  0 &  0 &  0 &  0 &  1 &  1 &  1 &  1 &  0 &  0 &  0 &  0 &  1 &  1 &  0 &  0 &  1 &  1 &  1 &  0 &  0 &  0 &  0 &  0 &  0 &  0 &  1 &  1 &  1 &  1 &  0 &  0 &  0 &  1 &  1 &  0 &  0 &  1 &  1 &  1 &  0 &  0 &  0 &  0 &  0 &  0 & 1 & 48 & 28 & 0 & 10 & 4 & 1 & 38 & 24 & 0 & 0 & 0 & 1 & 1 & 1 & 1 & 1 & 1 & 1 & 1 & 1 & 1 & 1 & 1 & 1 & 1 & 1 & 1 & 1 & 1 & 1 & 50 & 1758 & 925 & 0 & 354 & 135 & 50 & 1404 & 790 & 0 & 0 & 0 & NA & NA & NA & NA & NA & NA & NA &  NA & NA & NA & NA & NA &   NA & NA & NA & NA & NA & NA & NA & NA & NA &       NA &       NA & NA & NA & NA &  NA &   NA &   NA & NA & NA & NA & NA & NA & NA & NA & NA & NA & NA & NA & NA & NA & NA & NA & NA & NA & NA & NA & NA & NA & NA & NA & NA & NA & NA & NA & NA & NA & NA & NA & NA & NA & NA & NA & NA & NA & NA & NA & NA & NA & NA & NA & NA & NA & NA & NA & NA & NA & NA & NA & NA & NA & NA & NA & NA & NA & NA & NA & NA & NA & NA & NA & NA & NA & NA & NA & NA & NA & NA & NA & NA & NA & NA & NA & NA & NA & NA & NA & NA & NA & NA & NA & NA & NA & NA & NA & NA & NA & NA & NA & NA & NA & NA & NA & NA & NA & NA & NA & NA & NA & NA & NA & NA & NA & NA & NA & NA & NA & NA & NA & NA & 1 & 28 & 0 & 0 & 0 & 0 & 10 & 0 & 4 & 0 & 0 & 1 & 1 & 1 & 1 & 38 & 24 & 0 & 0 & 0 & 0 & 0 & 0 & 0 & 0 & 0 & 1 & 50 & 1758 & 925 & 0 & 354 & 0 & 135 & 0 & 0 & 0 & 50 & 1404 & 790 & 0 & 0 & 0 & NA & NA & NA & NA & NA & NA & NA & NA & NA & NA & NA & NA & NA & NA & NA & NA & NA & NA\\\\\n",
       "\t 2987004 & 0 & 86506 & 50.0 & H &  4497 & 514 & 150 & mastercard & 102 & credit & 420 & 87 &  NA & NA & gmail.com   &  & 1 & 1 & 0 & 0 & 0 & 1 & 0 & 1 & 0 & 1 & 1 & 0 &  1 & 1 &   0 &  NA & NA & NA & NA & NA & NA & NA & NA & NA &  NA & NA & NA & NA &  NA &   NA &   NA &   NA &    &    NA &    NA &    NA &    NA &    NA & NA & NA & NA & NA & NA & NA & NA & NA & NA & NA & NA & NA & NA & NA & NA & NA & NA & NA & NA & NA & NA & NA & NA & NA & NA & NA & NA & NA & NA & NA & NA & NA & NA & NA & NA & NA & NA & NA & NA & NA & NA & NA & NA & NA & NA & NA & NA & NA & NA & NA & NA & NA & NA & NA & NA & NA & NA & NA & NA & NA & NA & NA & NA & NA & NA & NA & NA & NA & NA & NA & NA & NA & NA & NA & NA & NA & NA & NA & NA & NA & NA & NA & NA & NA & NA & NA & NA & NA & NA & NA & NA & NA & NA & NA & 0 &  0 &  0 & 0 &  0 & 0 & 0 &  0 &  0 & 0 & 0 & 0 & 1 & 1 & 1 & 1 & 1 & 1 & 1 & 1 & 1 & 1 & 1 & 1 & 1 & 1 & 1 & 1 & 1 & 1 & 1 &  0 &    0 &   0 & 0 &   0 &   0 &  0 &    0 &   0 & 0 & 0 & 0 &  0 &  0 &  0 &  0 &  0 &  6 & 18 & 140 &  0 &  0 &  0 &  0 & 1803 & 49 & 64 &  0 &  0 &  0 &  0 &  0 &  0 & 15557.99 & 169690.8 &  0 &  0 &  0 & 515 & 5155 & 2840 &  0 &  0 &  0 &  1 &  1 &  0 &  0 &  0 &  0 &  1 &  0 &  0 &  0 &  0 &  0 &  0 &  0 &  0 &  0 &  1 &  1 &  1 &  1 &  1 &  1 &  1 &  1 &  1 &  1 &  1 &  1 &  1 &  1 &  1 &  1 &  0 &  0 &  0 &  0 &  0 &  0 &  0 &  0 &  0 &  0 &  0 &  0 &  0 &  0 &  0 &  0 &  0 &  0 &  0 &  1 &  1 &  0 &  0 &  0 &  0 &  0 &  1 &  1 &  1 &  0 &  0 &  0 &  0 &  0 &  0 &  0 &  0 &  0 &  1 &  1 &  1 &  1 &  1 &  1 &  1 &  1 &  1 &  1 &  1 &  1 &  1 &  1 &  1 &  1 &  1 &  1 &  1 &  1 &  1 &  1 &  1 &  0 &  0 &  0 &  0 &  0 &  0 &  0 &  0 &  0 &  0 &  0 &  0 &  0 &  0 &  0 &  0 & 0 &  0 & 0 & 1 & 1 & 0 &  0 & 0 & 0 & 0 & 0 & 1 & 1 & 1 & 0 &  0 &  0 & 0 & 0 & 0 & 0 & 0 & 0 & 1 & 1 & 1 & 1 &  0 &    0 &   0 & 0 &   0 & 0 &   0 & 0 & 0 & 0 &  0 &    0 &   0 & 0 & 0 & 0 &  0 &  0 &  0 &  0 &  0 &  0 &  0 &  0 &  0 &  0 &  0 &  0 &  0 &  0 &  0 &  0 &  0 &  0\\\\\n",
       "\t 2987005 & 0 & 86510 & 49.0 & W &  5937 & 555 & 150 & visa       & 226 & debit  & 272 & 87 &  36 & NA & gmail.com   &  & 1 & 1 & 0 & 0 & 0 & 1 & 0 & 0 & 1 & 0 & 1 & 0 &  1 & 1 &   0 &  NA & NA &  0 & NA & NA & NA & NA & NA &  0 &   0 & NA & NA & NA &   0 & TRUE & TRUE & TRUE & M1 & FALSE &  TRUE &    NA &    NA &    NA &  1 &  1 &  1 &  1 &  1 &  1 &  1 &  1 &  1 &  0 &  0 &  1 &  1 &  1 &  0 &  0 &  0 &  0 &  1 &  1 &  0 &  0 &  1 &  1 &  1 &  1 &  0 &  0 &  0 &  0 &  0 &  0 &  0 &  0 &  1 &  1 &  1 &  1 &  0 &  0 &  1 &  0 &  0 &  1 &  1 &  1 &  1 &  0 &  0 &  0 &  0 &  0 &  1 &  1 &  1 &  1 &  0 &  0 &  0 &  0 &  1 &  1 &  0 &  0 &  1 &  1 &  1 &  0 &  0 &  0 &  0 &  0 &  0 &  0 &  1 &  1 &  1 &  1 &  0 &  0 &  0 &  1 &  1 &  0 &  0 &  1 &  1 &  1 &  0 &  0 &  0 &  0 &  0 &  0 & 0 &  0 &  0 & 0 &  0 & 0 & 0 &  0 &  0 & 0 & 0 & 0 & 1 & 1 & 1 & 1 & 1 & 1 & 1 & 1 & 1 & 1 & 1 & 1 & 1 & 1 & 1 & 1 & 1 & 1 & 1 &  0 &    0 &   0 & 0 &   0 &   0 &  0 &    0 &   0 & 0 & 0 & 0 & NA & NA & NA & NA & NA & NA & NA &  NA & NA & NA & NA & NA &   NA & NA & NA & NA & NA & NA & NA & NA & NA &       NA &       NA & NA & NA & NA &  NA &   NA &   NA & NA & NA & NA & NA & NA & NA & NA & NA & NA & NA & NA & NA & NA & NA & NA & NA & NA & NA & NA & NA & NA & NA & NA & NA & NA & NA & NA & NA & NA & NA & NA & NA & NA & NA & NA & NA & NA & NA & NA & NA & NA & NA & NA & NA & NA & NA & NA & NA & NA & NA & NA & NA & NA & NA & NA & NA & NA & NA & NA & NA & NA & NA & NA & NA & NA & NA & NA & NA & NA & NA & NA & NA & NA & NA & NA & NA & NA & NA & NA & NA & NA & NA & NA & NA & NA & NA & NA & NA & NA & NA & NA & NA & NA & NA & NA & NA & NA & NA & NA & NA & NA & NA & NA & NA & NA & NA & NA & NA & NA & NA & NA & NA & 0 &  0 & 0 & 1 & 1 & 0 &  0 & 0 & 0 & 0 & 0 & 1 & 1 & 1 & 0 &  0 &  0 & 0 & 0 & 0 & 0 & 0 & 0 & 0 & 0 & 0 & 1 &  0 &    0 &   0 & 0 &   0 & 0 &   0 & 0 & 0 & 0 &  0 &    0 &   0 & 0 & 0 & 0 & NA & NA & NA & NA & NA & NA & NA & NA & NA & NA & NA & NA & NA & NA & NA & NA & NA & NA\\\\\n",
       "\\end{tabular}\n"
      ],
      "text/markdown": [
       "\n",
       "A data.frame: 6 × 394\n",
       "\n",
       "| TransactionID &lt;int&gt; | isFraud &lt;int&gt; | TransactionDT &lt;int&gt; | TransactionAmt &lt;dbl&gt; | ProductCD &lt;fct&gt; | card1 &lt;int&gt; | card2 &lt;dbl&gt; | card3 &lt;dbl&gt; | card4 &lt;fct&gt; | card5 &lt;dbl&gt; | ... ... | V330 &lt;dbl&gt; | V331 &lt;dbl&gt; | V332 &lt;dbl&gt; | V333 &lt;dbl&gt; | V334 &lt;dbl&gt; | V335 &lt;dbl&gt; | V336 &lt;dbl&gt; | V337 &lt;dbl&gt; | V338 &lt;dbl&gt; | V339 &lt;dbl&gt; |\n",
       "|---|---|---|---|---|---|---|---|---|---|---|---|---|---|---|---|---|---|---|---|---|\n",
       "| 2987000 | 0 | 86400 | 68.5 | W | 13926 |  NA | 150 | discover   | 142 | ... | NA | NA | NA | NA | NA | NA | NA | NA | NA | NA |\n",
       "| 2987001 | 0 | 86401 | 29.0 | W |  2755 | 404 | 150 | mastercard | 102 | ... | NA | NA | NA | NA | NA | NA | NA | NA | NA | NA |\n",
       "| 2987002 | 0 | 86469 | 59.0 | W |  4663 | 490 | 150 | visa       | 166 | ... | NA | NA | NA | NA | NA | NA | NA | NA | NA | NA |\n",
       "| 2987003 | 0 | 86499 | 50.0 | W | 18132 | 567 | 150 | mastercard | 117 | ... | NA | NA | NA | NA | NA | NA | NA | NA | NA | NA |\n",
       "| 2987004 | 0 | 86506 | 50.0 | H |  4497 | 514 | 150 | mastercard | 102 | ... |  0 |  0 |  0 |  0 |  0 |  0 |  0 |  0 |  0 |  0 |\n",
       "| 2987005 | 0 | 86510 | 49.0 | W |  5937 | 555 | 150 | visa       | 226 | ... | NA | NA | NA | NA | NA | NA | NA | NA | NA | NA |\n",
       "\n"
      ],
      "text/plain": [
       "  TransactionID isFraud TransactionDT TransactionAmt ProductCD card1 card2\n",
       "1 2987000       0       86400         68.5           W         13926  NA  \n",
       "2 2987001       0       86401         29.0           W          2755 404  \n",
       "3 2987002       0       86469         59.0           W          4663 490  \n",
       "4 2987003       0       86499         50.0           W         18132 567  \n",
       "5 2987004       0       86506         50.0           H          4497 514  \n",
       "6 2987005       0       86510         49.0           W          5937 555  \n",
       "  card3 card4      card5 ... V330 V331 V332 V333 V334 V335 V336 V337 V338 V339\n",
       "1 150   discover   142   ... NA   NA   NA   NA   NA   NA   NA   NA   NA   NA  \n",
       "2 150   mastercard 102   ... NA   NA   NA   NA   NA   NA   NA   NA   NA   NA  \n",
       "3 150   visa       166   ... NA   NA   NA   NA   NA   NA   NA   NA   NA   NA  \n",
       "4 150   mastercard 117   ... NA   NA   NA   NA   NA   NA   NA   NA   NA   NA  \n",
       "5 150   mastercard 102   ...  0    0    0    0    0    0    0    0    0    0  \n",
       "6 150   visa       226   ... NA   NA   NA   NA   NA   NA   NA   NA   NA   NA  "
      ]
     },
     "metadata": {},
     "output_type": "display_data"
    }
   ],
   "source": [
    "head(df_train_trans)"
   ]
  },
  {
   "cell_type": "code",
   "execution_count": 6,
   "metadata": {},
   "outputs": [
    {
     "name": "stdout",
     "output_type": "stream",
     "text": [
      "[1] \"train_identity: 144233 Rows and 41 Columns\"\n",
      "[1] \"test_identity: 141907 Rows and 41 Columns\"\n",
      "[1] \"train_transaction: 590540 Rows and 394 Columns\"\n",
      "[1] \"test_transaction: 506691 Rows and 393 Columns\"\n"
     ]
    }
   ],
   "source": [
    "print(paste('train_identity:', dim(df_train_iden)[1], 'Rows and', dim(df_train_iden)[2], 'Columns'))\n",
    "print(paste('test_identity:', dim(df_test_iden)[1], 'Rows and', dim(df_test_iden)[2], 'Columns'))\n",
    "print(paste('train_transaction:', dim(df_train_trans)[1], 'Rows and', dim(df_train_trans)[2], 'Columns'))\n",
    "print(paste('test_transaction:', dim(df_test_trans)[1], 'Rows and', dim(df_test_trans)[2], 'Columns'))"
   ]
  },
  {
   "cell_type": "code",
   "execution_count": 7,
   "metadata": {},
   "outputs": [
    {
     "name": "stderr",
     "output_type": "stream",
     "text": [
      "Joining, by = \"TransactionID\"\n",
      "Joining, by = \"TransactionID\"\n"
     ]
    },
    {
     "name": "stdout",
     "output_type": "stream",
     "text": [
      "[1] 590540    434\n",
      "[1] 506691    433\n"
     ]
    }
   ],
   "source": [
    "df_train <- left_join(df_train_trans, df_train_iden)\n",
    "df_test <- left_join(df_test_trans, df_test_iden)\n",
    "\n",
    "dim(df_train) %>% print\n",
    "dim(df_test) %>% print\n",
    "\n",
    "rm(df_train_iden, df_train_trans, df_test_iden, df_test_trans)"
   ]
  },
  {
   "cell_type": "code",
   "execution_count": 8,
   "metadata": {},
   "outputs": [],
   "source": [
    "missing_train <- colSums(is.na(df_train))[colSums(is.na(df_train)) > 0] %>% sort(decreasing=T)\n",
    "missing_test <- colSums(is.na(df_test))[colSums(is.na(df_test)) > 0] %>% sort(decreasing=T)"
   ]
  },
  {
   "cell_type": "code",
   "execution_count": 9,
   "metadata": {},
   "outputs": [
    {
     "name": "stdout",
     "output_type": "stream",
     "text": [
      "[1] \"409 columns out of 434 have missing values in train\"\n",
      "[1] \"380 columns out of 433 have missing values in test\"\n"
     ]
    }
   ],
   "source": [
    "print(paste(length(missing_train), 'columns out of', ncol(df_train), 'have missing values in train'))\n",
    "print(paste(length(missing_test), 'columns out of', ncol(df_test), 'have missing values in test'))"
   ]
  },
  {
   "cell_type": "code",
   "execution_count": 10,
   "metadata": {},
   "outputs": [
    {
     "name": "stderr",
     "output_type": "stream",
     "text": [
      "Warning message in bind_rows_(x, .id):\n",
      "\"Unequal factor levels: coercing to character\"Warning message in bind_rows_(x, .id):\n",
      "\"binding character and factor vector, coercing into character vector\"Warning message in bind_rows_(x, .id):\n",
      "\"binding character and factor vector, coercing into character vector\"Warning message in bind_rows_(x, .id):\n",
      "\"Unequal factor levels: coercing to character\"Warning message in bind_rows_(x, .id):\n",
      "\"binding character and factor vector, coercing into character vector\"Warning message in bind_rows_(x, .id):\n",
      "\"binding character and factor vector, coercing into character vector\"Warning message in bind_rows_(x, .id):\n",
      "\"Unequal factor levels: coercing to character\"Warning message in bind_rows_(x, .id):\n",
      "\"binding character and factor vector, coercing into character vector\"Warning message in bind_rows_(x, .id):\n",
      "\"binding character and factor vector, coercing into character vector\"Warning message in bind_rows_(x, .id):\n",
      "\"Unequal factor levels: coercing to character\"Warning message in bind_rows_(x, .id):\n",
      "\"binding character and factor vector, coercing into character vector\"Warning message in bind_rows_(x, .id):\n",
      "\"binding character and factor vector, coercing into character vector\"Warning message in bind_rows_(x, .id):\n",
      "\"Unequal factor levels: coercing to character\"Warning message in bind_rows_(x, .id):\n",
      "\"binding character and factor vector, coercing into character vector\"Warning message in bind_rows_(x, .id):\n",
      "\"binding character and factor vector, coercing into character vector\"Warning message in bind_rows_(x, .id):\n",
      "\"Unequal factor levels: coercing to character\"Warning message in bind_rows_(x, .id):\n",
      "\"binding character and factor vector, coercing into character vector\"Warning message in bind_rows_(x, .id):\n",
      "\"binding character and factor vector, coercing into character vector\"Warning message in bind_rows_(x, .id):\n",
      "\"Unequal factor levels: coercing to character\"Warning message in bind_rows_(x, .id):\n",
      "\"binding character and factor vector, coercing into character vector\"Warning message in bind_rows_(x, .id):\n",
      "\"binding character and factor vector, coercing into character vector\""
     ]
    }
   ],
   "source": [
    "df_train$key <- \"train\"\n",
    "df_test$key <- \"test\"\n",
    "full <- bind_rows(df_train, df_test)\n",
    "rm(df_train, df_test)"
   ]
  },
  {
   "cell_type": "code",
   "execution_count": 11,
   "metadata": {},
   "outputs": [
    {
     "name": "stdout",
     "output_type": "stream",
     "text": [
      "'data.frame':\t1097231 obs. of  435 variables:\n",
      " $ TransactionID : int  2987000 2987001 2987002 2987003 2987004 2987005 2987006 2987007 2987008 2987009 ...\n",
      " $ isFraud       : int  0 0 0 0 0 0 0 0 0 0 ...\n",
      " $ TransactionDT : int  86400 86401 86469 86499 86506 86510 86522 86529 86535 86536 ...\n",
      " $ TransactionAmt: num  68.5 29 59 50 50 ...\n",
      " $ ProductCD     : Factor w/ 5 levels \"C\",\"H\",\"R\",\"S\",..: 5 5 5 5 2 5 5 5 2 5 ...\n",
      " $ card1         : int  13926 2755 4663 18132 4497 5937 12308 12695 2803 17399 ...\n",
      " $ card2         : num  NA 404 490 567 514 555 360 490 100 111 ...\n",
      " $ card3         : num  150 150 150 150 150 150 150 150 150 150 ...\n",
      " $ card4         : Factor w/ 5 levels \"\",\"american express\",..: 3 4 5 4 4 5 5 5 5 4 ...\n",
      " $ card5         : num  142 102 166 117 102 226 166 226 226 224 ...\n",
      " $ card6         : chr  \"credit\" \"credit\" \"debit\" \"debit\" ...\n",
      " $ addr1         : num  315 325 330 476 420 272 126 325 337 204 ...\n",
      " $ addr2         : num  87 87 87 87 87 87 87 87 87 87 ...\n",
      " $ dist1         : num  19 NA 287 NA NA 36 0 NA NA 19 ...\n",
      " $ dist2         : num  NA NA NA NA NA NA NA NA NA NA ...\n",
      " $ P_emaildomain : chr  \"\" \"gmail.com\" \"outlook.com\" \"yahoo.com\" ...\n",
      " $ R_emaildomain : Factor w/ 61 levels \"\",\"aim.com\",\"anonymous.com\",..: 1 1 1 1 1 1 1 1 1 1 ...\n",
      " $ C1            : num  1 1 1 2 1 1 1 1 1 2 ...\n",
      " $ C2            : num  1 1 1 5 1 1 1 1 1 2 ...\n",
      " $ C3            : num  0 0 0 0 0 0 0 0 0 0 ...\n",
      " $ C4            : num  0 0 0 0 0 0 0 0 0 0 ...\n",
      " $ C5            : num  0 0 0 0 0 0 0 0 0 0 ...\n",
      " $ C6            : num  1 1 1 4 1 1 1 1 1 3 ...\n",
      " $ C7            : num  0 0 0 0 0 0 0 0 0 0 ...\n",
      " $ C8            : num  0 0 0 0 1 0 0 0 1 0 ...\n",
      " $ C9            : num  1 0 1 1 0 1 1 0 0 3 ...\n",
      " $ C10           : num  0 0 0 0 1 0 0 0 1 0 ...\n",
      " $ C11           : num  2 1 1 1 1 1 1 1 1 1 ...\n",
      " $ C12           : num  0 0 0 0 0 0 0 0 0 0 ...\n",
      " $ C13           : num  1 1 1 25 1 1 1 1 1 12 ...\n",
      " $ C14           : num  1 1 1 1 1 1 1 1 1 2 ...\n",
      " $ D1            : num  14 0 0 112 0 0 0 0 0 61 ...\n",
      " $ D2            : num  NA NA NA 112 NA NA NA NA NA 61 ...\n",
      " $ D3            : num  13 NA NA 0 NA NA NA NA NA 30 ...\n",
      " $ D4            : num  NA 0 0 94 NA 0 0 0 NA 318 ...\n",
      " $ D5            : num  NA NA NA 0 NA NA NA NA NA 30 ...\n",
      " $ D6            : num  NA NA NA NA NA NA NA NA NA NA ...\n",
      " $ D7            : num  NA NA NA NA NA NA NA NA NA NA ...\n",
      " $ D8            : num  NA NA NA NA NA NA NA NA NA NA ...\n",
      " $ D9            : num  NA NA NA NA NA NA NA NA NA NA ...\n",
      " $ D10           : num  13 0 0 84 NA 0 0 0 NA 40 ...\n",
      " $ D11           : num  13 NA 315 NA NA 0 0 NA NA 302 ...\n",
      " $ D12           : num  NA NA NA NA NA NA NA NA NA NA ...\n",
      " $ D13           : num  NA NA NA NA NA NA NA NA NA NA ...\n",
      " $ D14           : num  NA NA NA NA NA NA NA NA NA NA ...\n",
      " $ D15           : num  0 0 315 111 NA 0 0 0 NA 318 ...\n",
      " $ M1            : logi  TRUE NA TRUE NA NA TRUE ...\n",
      " $ M2            : logi  TRUE NA TRUE NA NA TRUE ...\n",
      " $ M3            : logi  TRUE NA TRUE NA NA TRUE ...\n",
      " $ M4            : Factor w/ 4 levels \"\",\"M0\",\"M1\",\"M2\": 4 2 2 2 1 3 2 2 1 2 ...\n",
      " $ M5            : logi  FALSE TRUE FALSE TRUE NA FALSE ...\n",
      " $ M6            : logi  TRUE TRUE FALSE FALSE NA TRUE ...\n",
      " $ M7            : logi  NA NA FALSE NA NA NA ...\n",
      " $ M8            : logi  NA NA FALSE NA NA NA ...\n",
      " $ M9            : logi  NA NA FALSE NA NA NA ...\n",
      " $ V1            : num  1 NA 1 NA NA 1 1 NA NA 1 ...\n",
      " $ V2            : num  1 NA 1 NA NA 1 1 NA NA 1 ...\n",
      " $ V3            : num  1 NA 1 NA NA 1 1 NA NA 1 ...\n",
      " $ V4            : num  1 NA 1 NA NA 1 1 NA NA 1 ...\n",
      " $ V5            : num  1 NA 1 NA NA 1 1 NA NA 1 ...\n",
      " $ V6            : num  1 NA 1 NA NA 1 1 NA NA 1 ...\n",
      " $ V7            : num  1 NA 1 NA NA 1 1 NA NA 1 ...\n",
      " $ V8            : num  1 NA 1 NA NA 1 1 NA NA 1 ...\n",
      " $ V9            : num  1 NA 1 NA NA 1 1 NA NA 1 ...\n",
      " $ V10           : num  0 NA 0 NA NA 0 0 NA NA 0 ...\n",
      " $ V11           : num  0 NA 0 NA NA 0 0 NA NA 0 ...\n",
      " $ V12           : num  1 0 1 1 NA 1 1 0 NA 1 ...\n",
      " $ V13           : num  1 0 1 1 NA 1 1 0 NA 1 ...\n",
      " $ V14           : num  1 1 1 1 NA 1 1 1 NA 1 ...\n",
      " $ V15           : num  0 0 0 0 NA 0 0 0 NA 0 ...\n",
      " $ V16           : num  0 0 0 0 NA 0 0 0 NA 0 ...\n",
      " $ V17           : num  0 0 0 0 NA 0 0 0 NA 0 ...\n",
      " $ V18           : num  0 0 0 0 NA 0 0 0 NA 0 ...\n",
      " $ V19           : num  1 1 1 1 NA 1 1 1 NA 1 ...\n",
      " $ V20           : num  1 1 1 1 NA 1 1 1 NA 1 ...\n",
      " $ V21           : num  0 0 0 0 NA 0 0 0 NA 0 ...\n",
      " $ V22           : num  0 0 0 0 NA 0 0 0 NA 0 ...\n",
      " $ V23           : num  1 1 1 1 NA 1 1 1 NA 1 ...\n",
      " $ V24           : num  1 1 1 1 NA 1 1 1 NA 1 ...\n",
      " $ V25           : num  1 1 1 1 NA 1 1 1 NA 1 ...\n",
      " $ V26           : num  1 1 1 1 NA 1 1 1 NA 1 ...\n",
      " $ V27           : num  0 0 0 0 NA 0 0 0 NA 0 ...\n",
      " $ V28           : num  0 0 0 0 NA 0 0 0 NA 0 ...\n",
      " $ V29           : num  0 0 0 0 NA 0 0 0 NA 0 ...\n",
      " $ V30           : num  0 0 0 0 NA 0 0 0 NA 0 ...\n",
      " $ V31           : num  0 0 0 0 NA 0 0 0 NA 0 ...\n",
      " $ V32           : num  0 0 0 0 NA 0 0 0 NA 0 ...\n",
      " $ V33           : num  0 0 0 0 NA 0 0 0 NA 0 ...\n",
      " $ V34           : num  0 0 0 0 NA 0 0 0 NA 0 ...\n",
      " $ V35           : num  NA 0 1 1 NA 1 1 0 NA 1 ...\n",
      " $ V36           : num  NA 0 1 1 NA 1 1 0 NA 1 ...\n",
      " $ V37           : num  NA 1 1 1 NA 1 1 1 NA 1 ...\n",
      " $ V38           : num  NA 1 1 1 NA 1 1 1 NA 1 ...\n",
      " $ V39           : num  NA 0 0 0 NA 0 0 0 NA 0 ...\n",
      " $ V40           : num  NA 0 0 0 NA 0 0 0 NA 0 ...\n",
      " $ V41           : num  NA 1 1 1 NA 1 1 1 NA 1 ...\n",
      " $ V42           : num  NA 0 0 0 NA 0 0 0 NA 0 ...\n",
      " $ V43           : num  NA 0 0 0 NA 0 0 0 NA 0 ...\n",
      " $ V44           : num  NA 1 1 1 NA 1 1 1 NA 1 ...\n",
      "  [list output truncated]\n"
     ]
    }
   ],
   "source": [
    "str(full)"
   ]
  },
  {
   "cell_type": "code",
   "execution_count": 12,
   "metadata": {},
   "outputs": [],
   "source": [
    "df_dataType <- data.frame(table(sapply(full, class)))"
   ]
  },
  {
   "cell_type": "code",
   "execution_count": 13,
   "metadata": {},
   "outputs": [],
   "source": [
    "names(df_dataType)[1] <- \"dType\""
   ]
  },
  {
   "cell_type": "code",
   "execution_count": 14,
   "metadata": {},
   "outputs": [
    {
     "data": {
      "text/html": [
       "<table>\n",
       "<caption>A data.frame: 5 × 2</caption>\n",
       "<thead>\n",
       "\t<tr><th scope=col>dType</th><th scope=col>Freq</th></tr>\n",
       "\t<tr><th scope=col>&lt;fct&gt;</th><th scope=col>&lt;int&gt;</th></tr>\n",
       "</thead>\n",
       "<tbody>\n",
       "\t<tr><td>character</td><td>  8</td></tr>\n",
       "\t<tr><td>factor   </td><td> 12</td></tr>\n",
       "\t<tr><td>integer  </td><td>  4</td></tr>\n",
       "\t<tr><td>logical  </td><td> 12</td></tr>\n",
       "\t<tr><td>numeric  </td><td>399</td></tr>\n",
       "</tbody>\n",
       "</table>\n"
      ],
      "text/latex": [
       "A data.frame: 5 × 2\n",
       "\\begin{tabular}{r|ll}\n",
       " dType & Freq\\\\\n",
       " <fct> & <int>\\\\\n",
       "\\hline\n",
       "\t character &   8\\\\\n",
       "\t factor    &  12\\\\\n",
       "\t integer   &   4\\\\\n",
       "\t logical   &  12\\\\\n",
       "\t numeric   & 399\\\\\n",
       "\\end{tabular}\n"
      ],
      "text/markdown": [
       "\n",
       "A data.frame: 5 × 2\n",
       "\n",
       "| dType &lt;fct&gt; | Freq &lt;int&gt; |\n",
       "|---|---|\n",
       "| character |   8 |\n",
       "| factor    |  12 |\n",
       "| integer   |   4 |\n",
       "| logical   |  12 |\n",
       "| numeric   | 399 |\n",
       "\n"
      ],
      "text/plain": [
       "  dType     Freq\n",
       "1 character   8 \n",
       "2 factor     12 \n",
       "3 integer     4 \n",
       "4 logical    12 \n",
       "5 numeric   399 "
      ]
     },
     "metadata": {},
     "output_type": "display_data"
    }
   ],
   "source": [
    "df_dataType"
   ]
  },
  {
   "cell_type": "code",
   "execution_count": 15,
   "metadata": {},
   "outputs": [
    {
     "data": {
      "image/png": "[encoded data removed]",
      "text/plain": [
       "plot without title"
      ]
     },
     "metadata": {},
     "output_type": "display_data"
    }
   ],
   "source": [
    "ggplot(data = df_dataType, aes(x=dType, y=Freq, fill=dType)) +\n",
    "    geom_bar(position = 'dodge', stat='identity', alpha=0.9, width=0.5) +\n",
    "    geom_text(aes(label=Freq), position=position_dodge(width=0.9), vjust=-0.25, size=3.5)"
   ]
  },
  {
   "cell_type": "code",
   "execution_count": 16,
   "metadata": {
    "scrolled": true
   },
   "outputs": [
    {
     "data": {
      "image/png": "[encoded data removed]",
      "text/plain": [
       "plot without title"
      ]
     },
     "metadata": {},
     "output_type": "display_data"
    }
   ],
   "source": [
    "df_isFraud <- data.frame(table(full$isFraud))\n",
    "names(df_isFraud)[1] <- \"isFraud\"\n",
    "\n",
    "ggplot(data = df_isFraud, aes(x=isFraud, y=Freq, fill=isFraud)) +\n",
    "geom_bar(position = 'dodge', stat='identity', alpha=0.9, width=0.5) +\n",
    "geom_text(aes(label=round(Freq/sum(Freq)*100, 2)), position=position_dodge(width=0.9), vjust=-0.25, size=3.5)\n"
   ]
  },
  {
   "cell_type": "code",
   "execution_count": 17,
   "metadata": {
    "scrolled": true
   },
   "outputs": [
    {
     "data": {
      "text/plain": [
       "\n",
       "        desktop  mobile    <NA> \n",
       "   8399  159568  118173  811091 "
      ]
     },
     "metadata": {},
     "output_type": "display_data"
    }
   ],
   "source": [
    "table(full$DeviceType, useNA = 'ifany')"
   ]
  },
  {
   "cell_type": "code",
   "execution_count": 18,
   "metadata": {},
   "outputs": [
    {
     "name": "stderr",
     "output_type": "stream",
     "text": [
      "Warning message in `[<-.factor`(`*tmp*`, full$DeviceType == \"\", value = 8399L):\n",
      "\"invalid factor level, NA generated\""
     ]
    }
   ],
   "source": [
    "full$DeviceType[full$DeviceType == ''] <- sum(sapply(full['DeviceType'], as.character)==\"\", na.rm=T)"
   ]
  },
  {
   "cell_type": "code",
   "execution_count": 19,
   "metadata": {},
   "outputs": [
    {
     "data": {
      "image/png": "[encoded data removed]",
      "text/plain": [
       "plot without title"
      ]
     },
     "metadata": {},
     "output_type": "display_data"
    }
   ],
   "source": [
    "options(repr.plot.width=8, repr.plot.height=6) \n",
    "p1 <- full %>% ggplot(aes(x= TransactionAmt, fill=key, colour=key)) + \n",
    "    geom_density(alpha=0.1, size=0.2) +\n",
    "    scale_fill_tableau() + scale_color_tableau() + theme_bw()\n",
    "p2 <- full %>% ggplot(aes(x= log(TransactionAmt), fill=key, colour=key)) + \n",
    "    geom_density(alpha=0.1, size=0.2) +\n",
    "    scale_fill_tableau() + scale_color_tableau() + theme_bw()\n",
    "p3 <- full %>% filter(key=='train') %>% ggplot(aes(x= TransactionAmt, fill=factor(isFraud), colour=factor(isFraud))) + \n",
    "    geom_density(alpha=0.1, size=0.2) +\n",
    "    scale_fill_tableau() + scale_color_tableau() + theme_bw() + labs(fill='isFraud') + labs(colour='isFraud')\n",
    "p4 <- full %>% filter(key=='train') %>% ggplot(aes(x= log(TransactionAmt), fill=factor(isFraud), colour=factor(isFraud))) + \n",
    "    geom_density(alpha=0.1, size=0.2) +\n",
    "    scale_fill_tableau() + scale_color_tableau() + theme_bw() + labs(fill='isFraud') + labs(colour='isFraud')\n",
    "grid.arrange(p1, p2, p3, p4, ncol=2)\n",
    "rm(p1, p2, p3, p4)"
   ]
  },
  {
   "cell_type": "code",
   "execution_count": 20,
   "metadata": {},
   "outputs": [
    {
     "data": {
      "image/png": "[encoded data removed]",
      "text/plain": [
       "plot without title"
      ]
     },
     "metadata": {},
     "output_type": "display_data"
    }
   ],
   "source": [
    "options(repr.plot.width=8, repr.plot.height=3)\n",
    "p1 <- full %>% ggplot(aes(x= card1, fill=key, colour=key)) + \n",
    "    geom_density(alpha=0.1, size=0.2) +\n",
    "    scale_fill_tableau() + scale_color_tableau() + theme_bw()\n",
    "p2 <- full %>% filter(key=='train') %>% ggplot(aes(x= card1, fill=factor(isFraud), colour=factor(isFraud))) + \n",
    "    geom_density(alpha=0.1, size=0.2) +\n",
    "    scale_fill_tableau() + scale_color_tableau() + theme_bw() + labs(fill='isFraud') + labs(colour='isFraud')\n",
    "grid.arrange(p1, p2, ncol=2)\n",
    "rm(p1, p2)"
   ]
  },
  {
   "cell_type": "code",
   "execution_count": 21,
   "metadata": {},
   "outputs": [
    {
     "name": "stderr",
     "output_type": "stream",
     "text": [
      "Warning message:\n",
      "\"Removed 17587 rows containing non-finite values (stat_density).\"Warning message:\n",
      "\"Removed 8933 rows containing non-finite values (stat_density).\""
     ]
    },
    {
     "data": {
      "image/png": "[encoded data removed]",
      "text/plain": [
       "plot without title"
      ]
     },
     "metadata": {},
     "output_type": "display_data"
    }
   ],
   "source": [
    "options(repr.plot.width=8, repr.plot.height=3)\n",
    "p1 <- full %>% ggplot(aes(x= card2, fill=key, colour=key)) + \n",
    "    geom_density(alpha=0.1, size=0.2) +\n",
    "    scale_fill_tableau() + scale_color_tableau() + theme_bw()\n",
    "p2 <- full %>% filter(key=='train') %>% ggplot(aes(x= card2, fill=factor(isFraud), colour=factor(isFraud))) + \n",
    "    geom_density(alpha=0.1, size=0.2) +\n",
    "    scale_fill_tableau() + scale_color_tableau() + theme_bw() + labs(fill='isFraud') + labs(colour='isFraud')\n",
    "grid.arrange(p1, p2, ncol=2)\n",
    "rm(p1, p2)"
   ]
  },
  {
   "cell_type": "code",
   "execution_count": 22,
   "metadata": {},
   "outputs": [
    {
     "name": "stderr",
     "output_type": "stream",
     "text": [
      "Warning message:\n",
      "\"Removed 4567 rows containing non-finite values (stat_density).\"Warning message:\n",
      "\"Removed 1565 rows containing non-finite values (stat_density).\""
     ]
    },
    {
     "data": {
      "image/png": "[encoded data removed]",
      "text/plain": [
       "plot without title"
      ]
     },
     "metadata": {},
     "output_type": "display_data"
    }
   ],
   "source": [
    "options(repr.plot.width=8, repr.plot.height=3)\n",
    "p1 <- full %>% ggplot(aes(x= card3, fill=key, colour=key)) + \n",
    "    geom_density(alpha=0.1, size=0.2) +\n",
    "    scale_fill_tableau() + scale_color_tableau() + theme_bw()\n",
    "p2 <- full %>% filter(key=='train') %>% ggplot(aes(x= card3, fill=factor(isFraud), colour=factor(isFraud))) + \n",
    "    geom_density(alpha=0.1, size=0.2) +\n",
    "    scale_fill_tableau() + scale_color_tableau() + theme_bw() + labs(fill='isFraud') + labs(colour='isFraud')\n",
    "grid.arrange(p1, p2, ncol=2)\n",
    "rm(p1, p2)"
   ]
  },
  {
   "cell_type": "code",
   "execution_count": 23,
   "metadata": {},
   "outputs": [
    {
     "data": {
      "text/plain": [
       "\n",
       "                 american express         discover       mastercard \n",
       "            4663            16009             9524           347386 \n",
       "            visa \n",
       "          719649 "
      ]
     },
     "metadata": {},
     "output_type": "display_data"
    }
   ],
   "source": [
    "table(full$card4, useNA = \"ifany\")"
   ]
  },
  {
   "cell_type": "code",
   "execution_count": 24,
   "metadata": {},
   "outputs": [
    {
     "ename": "ERROR",
     "evalue": "Error in parse(text = x, srcfile = src): <text>:1:38: unexpected symbol\n1: full$card4[full$card4 == ''] <- 'NA' LALA\n                                         ^\n",
     "output_type": "error",
     "traceback": [
      "Error in parse(text = x, srcfile = src): <text>:1:38: unexpected symbol\n1: full$card4[full$card4 == ''] <- 'NA' LALA\n                                         ^\nTraceback:\n"
     ]
    }
   ],
   "source": [
    "full$card4[full$card4 == ''] <- 'NA' LALA"
   ]
  },
  {
   "cell_type": "code",
   "execution_count": null,
   "metadata": {},
   "outputs": [],
   "source": [
    "options(repr.plot.width=6, repr.plot.height=3) # resize plot option\n",
    "full %>% group_by(key, card4) %>% summarise(Freq=n()) %>% ggplot(aes(x=card4, y=Freq, fill=key)) +\n",
    "    geom_bar(position = 'dodge', stat='identity', alpha=0.9, width=0.5) +\n",
    "    geom_text(aes(label=Freq), position=position_dodge(width=0.9), vjust=-0.25, size=3.5) +\n",
    "    scale_fill_tableau() +\n",
    "    theme_bw() + ylim(0, 6e+05) +\n",
    "    ggtitle('Barplot of card4') +\n",
    "    theme(plot.title = element_text(hjust=0.5, size=10), # centering and setting font size of plot title\n",
    "          axis.text = element_text(size=8),\n",
    "          legend.title = element_text(size=8),\n",
    "          axis.title = element_text(size=8))"
   ]
  },
  {
   "cell_type": "code",
   "execution_count": null,
   "metadata": {},
   "outputs": [],
   "source": [
    "options(repr.plot.width=8, repr.plot.height=3) # resize plot option\n",
    "p1 <- full %>% ggplot(aes(x= card5, fill=key, colour=key)) + \n",
    "    geom_density(alpha=0.1, size=0.2) +\n",
    "    scale_fill_tableau() + scale_color_tableau() + theme_bw()\n",
    "p2 <- full %>% filter(key=='train') %>% ggplot(aes(x= card5, fill=factor(isFraud), colour=factor(isFraud))) + \n",
    "    geom_density(alpha=0.1, size=0.2) +\n",
    "    scale_fill_tableau() + scale_color_tableau() + theme_bw() + labs(fill='isFraud') + labs(colour='isFraud')\n",
    "grid.arrange(p1, p2, ncol=2)\n",
    "rm(p1, p2)"
   ]
  },
  {
   "cell_type": "code",
   "execution_count": null,
   "metadata": {},
   "outputs": [],
   "source": [
    "options(repr.plot.width=6, repr.plot.height=3) \n",
    "full %>% group_by(key, card6) %>% summarise(Freq=n()) %>% ggplot(aes(x=card6, y=Freq, fill=key)) +\n",
    "    geom_bar(position = 'dodge', stat='identity', alpha=0.9, width=0.5) +\n",
    "    geom_text(aes(label=Freq), position=position_dodge(width=0.9), vjust=-0.25, size=3.5) +\n",
    "    scale_fill_tableau() +\n",
    "    theme_bw() + ylim(0, 6e+05) +\n",
    "    ggtitle('Barplot of card6') +\n",
    "    theme(plot.title = element_text(hjust=0.5, size=10),\n",
    "          axis.text = element_text(size=8),\n",
    "          legend.title = element_text(size=8),\n",
    "          axis.title = element_text(size=8))"
   ]
  },
  {
   "cell_type": "code",
   "execution_count": null,
   "metadata": {},
   "outputs": [],
   "source": [
    "missing_rate <- colSums(is.na(full))/nrow(full) \n",
    "missing_delVars <- names(missing_rate[missing_rate> 0.95])\n",
    "full <- full[ , !(names(full) %in% missing_delVars)]"
   ]
  },
  {
   "cell_type": "code",
   "execution_count": null,
   "metadata": {},
   "outputs": [],
   "source": [
    "X_train <- full[full$key=='train', ] %>% select(-TransactionID, -key)\n",
    "# y_train <- full[full$key=='train', ]$isFraud\n",
    "X_test <- full[full$key=='test', ] %>% select(-isFraud, -TransactionID, -key)\n",
    "\n",
    "rm(full)"
   ]
  },
  {
   "cell_type": "code",
   "execution_count": null,
   "metadata": {},
   "outputs": [],
   "source": [
    "cat_vars <- names(X_train)[sapply(X_train, is.character)]\n",
    "sapply(X_train[cat_vars], function(x) length(unique(x))) %>% sort(decreasing=T) %>% head(10) %>% data.frame"
   ]
  },
  {
   "cell_type": "code",
   "execution_count": null,
   "metadata": {},
   "outputs": [],
   "source": [
    "X_train[, cat_vars] <- lapply(X_train[, cat_vars], as.factor)\n",
    "X_test[, cat_vars] <- lapply(X_test[, cat_vars], as.factor)"
   ]
  },
  {
   "cell_type": "code",
   "execution_count": null,
   "metadata": {},
   "outputs": [],
   "source": [
    "X_train[, cat_vars] <- lapply(X_train[, cat_vars], as.integer)\n",
    "X_test[, cat_vars] <- lapply(X_test[, cat_vars], as.integer)"
   ]
  },
  {
   "cell_type": "code",
   "execution_count": null,
   "metadata": {},
   "outputs": [],
   "source": [
    "print(dim(X_train))\n",
    "print(dim(X_test))"
   ]
  },
  {
   "cell_type": "code",
   "execution_count": null,
   "metadata": {},
   "outputs": [],
   "source": [
    "head(X_train)"
   ]
  },
  {
   "cell_type": "code",
   "execution_count": null,
   "metadata": {},
   "outputs": [],
   "source": [
    "colnames(X_train)[colSums(is.na(X_train)) > 0]"
   ]
  },
  {
   "cell_type": "code",
   "execution_count": null,
   "metadata": {},
   "outputs": [],
   "source": [
    "model1 <- glm(isFraud~., family=binomial(link='logit'), data = X_train)\n",
    "summary(model1)"
   ]
  }
 ],
 "metadata": {
  "kernelspec": {
   "display_name": "R",
   "language": "R",
   "name": "ir"
  },
  "language_info": {
   "codemirror_mode": "r",
   "file_extension": ".r",
   "mimetype": "text/x-r-source",
   "name": "R",
   "pygments_lexer": "r",
   "version": "3.6.1"
  }
 },
 "nbformat": 4,
 "nbformat_minor": 2
}
